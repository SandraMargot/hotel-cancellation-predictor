{
 "cells": [
  {
   "cell_type": "markdown",
   "id": "4fd52755",
   "metadata": {},
   "source": [
    "0 - Set working directory"
   ]
  },
  {
   "cell_type": "code",
   "execution_count": 3,
   "id": "d20849c2",
   "metadata": {},
   "outputs": [
    {
     "name": "stdout",
     "output_type": "stream",
     "text": [
      "Working directory set to: /home/sandra/hotels\n"
     ]
    }
   ],
   "source": [
    "import os\n",
    "\n",
    "# Always run notebook from project root (~/hotels)\n",
    "os.chdir(os.path.expanduser(\"~/hotels\"))\n",
    "print(\"Working directory set to:\", os.getcwd())"
   ]
  },
  {
   "cell_type": "markdown",
   "id": "b99d02a3",
   "metadata": {},
   "source": [
    "1 - Imports & paths"
   ]
  },
  {
   "cell_type": "code",
   "execution_count": 4,
   "id": "50ec6eaf",
   "metadata": {},
   "outputs": [],
   "source": [
    "import pandas as pd\n",
    "import numpy as np\n",
    "\n",
    "# Define paths\n",
    "raw_path = \"data/raw/historical/hbd/hotel_bookings.csv\"\n",
    "processed_path = \"data/processed/historical/hotel_bookings_clean.csv\"\n"
   ]
  },
  {
   "cell_type": "markdown",
   "id": "ef1655fa",
   "metadata": {},
   "source": [
    "2 - Load & preview"
   ]
  },
  {
   "cell_type": "code",
   "execution_count": 5,
   "id": "eb8198c3",
   "metadata": {},
   "outputs": [
    {
     "name": "stdout",
     "output_type": "stream",
     "text": [
      "Shape: (119390, 32)\n"
     ]
    },
    {
     "data": {
      "text/html": [
       "<div>\n",
       "<style scoped>\n",
       "    .dataframe tbody tr th:only-of-type {\n",
       "        vertical-align: middle;\n",
       "    }\n",
       "\n",
       "    .dataframe tbody tr th {\n",
       "        vertical-align: top;\n",
       "    }\n",
       "\n",
       "    .dataframe thead th {\n",
       "        text-align: right;\n",
       "    }\n",
       "</style>\n",
       "<table border=\"1\" class=\"dataframe\">\n",
       "  <thead>\n",
       "    <tr style=\"text-align: right;\">\n",
       "      <th></th>\n",
       "      <th>hotel</th>\n",
       "      <th>is_canceled</th>\n",
       "      <th>lead_time</th>\n",
       "      <th>arrival_date_year</th>\n",
       "      <th>arrival_date_month</th>\n",
       "      <th>arrival_date_week_number</th>\n",
       "      <th>arrival_date_day_of_month</th>\n",
       "      <th>stays_in_weekend_nights</th>\n",
       "      <th>stays_in_week_nights</th>\n",
       "      <th>adults</th>\n",
       "      <th>...</th>\n",
       "      <th>deposit_type</th>\n",
       "      <th>agent</th>\n",
       "      <th>company</th>\n",
       "      <th>days_in_waiting_list</th>\n",
       "      <th>customer_type</th>\n",
       "      <th>adr</th>\n",
       "      <th>required_car_parking_spaces</th>\n",
       "      <th>total_of_special_requests</th>\n",
       "      <th>reservation_status</th>\n",
       "      <th>reservation_status_date</th>\n",
       "    </tr>\n",
       "  </thead>\n",
       "  <tbody>\n",
       "    <tr>\n",
       "      <th>0</th>\n",
       "      <td>Resort Hotel</td>\n",
       "      <td>0</td>\n",
       "      <td>342</td>\n",
       "      <td>2015</td>\n",
       "      <td>July</td>\n",
       "      <td>27</td>\n",
       "      <td>1</td>\n",
       "      <td>0</td>\n",
       "      <td>0</td>\n",
       "      <td>2</td>\n",
       "      <td>...</td>\n",
       "      <td>No Deposit</td>\n",
       "      <td>NaN</td>\n",
       "      <td>NaN</td>\n",
       "      <td>0</td>\n",
       "      <td>Transient</td>\n",
       "      <td>0.0</td>\n",
       "      <td>0</td>\n",
       "      <td>0</td>\n",
       "      <td>Check-Out</td>\n",
       "      <td>2015-07-01</td>\n",
       "    </tr>\n",
       "    <tr>\n",
       "      <th>1</th>\n",
       "      <td>Resort Hotel</td>\n",
       "      <td>0</td>\n",
       "      <td>737</td>\n",
       "      <td>2015</td>\n",
       "      <td>July</td>\n",
       "      <td>27</td>\n",
       "      <td>1</td>\n",
       "      <td>0</td>\n",
       "      <td>0</td>\n",
       "      <td>2</td>\n",
       "      <td>...</td>\n",
       "      <td>No Deposit</td>\n",
       "      <td>NaN</td>\n",
       "      <td>NaN</td>\n",
       "      <td>0</td>\n",
       "      <td>Transient</td>\n",
       "      <td>0.0</td>\n",
       "      <td>0</td>\n",
       "      <td>0</td>\n",
       "      <td>Check-Out</td>\n",
       "      <td>2015-07-01</td>\n",
       "    </tr>\n",
       "    <tr>\n",
       "      <th>2</th>\n",
       "      <td>Resort Hotel</td>\n",
       "      <td>0</td>\n",
       "      <td>7</td>\n",
       "      <td>2015</td>\n",
       "      <td>July</td>\n",
       "      <td>27</td>\n",
       "      <td>1</td>\n",
       "      <td>0</td>\n",
       "      <td>1</td>\n",
       "      <td>1</td>\n",
       "      <td>...</td>\n",
       "      <td>No Deposit</td>\n",
       "      <td>NaN</td>\n",
       "      <td>NaN</td>\n",
       "      <td>0</td>\n",
       "      <td>Transient</td>\n",
       "      <td>75.0</td>\n",
       "      <td>0</td>\n",
       "      <td>0</td>\n",
       "      <td>Check-Out</td>\n",
       "      <td>2015-07-02</td>\n",
       "    </tr>\n",
       "    <tr>\n",
       "      <th>3</th>\n",
       "      <td>Resort Hotel</td>\n",
       "      <td>0</td>\n",
       "      <td>13</td>\n",
       "      <td>2015</td>\n",
       "      <td>July</td>\n",
       "      <td>27</td>\n",
       "      <td>1</td>\n",
       "      <td>0</td>\n",
       "      <td>1</td>\n",
       "      <td>1</td>\n",
       "      <td>...</td>\n",
       "      <td>No Deposit</td>\n",
       "      <td>304.0</td>\n",
       "      <td>NaN</td>\n",
       "      <td>0</td>\n",
       "      <td>Transient</td>\n",
       "      <td>75.0</td>\n",
       "      <td>0</td>\n",
       "      <td>0</td>\n",
       "      <td>Check-Out</td>\n",
       "      <td>2015-07-02</td>\n",
       "    </tr>\n",
       "    <tr>\n",
       "      <th>4</th>\n",
       "      <td>Resort Hotel</td>\n",
       "      <td>0</td>\n",
       "      <td>14</td>\n",
       "      <td>2015</td>\n",
       "      <td>July</td>\n",
       "      <td>27</td>\n",
       "      <td>1</td>\n",
       "      <td>0</td>\n",
       "      <td>2</td>\n",
       "      <td>2</td>\n",
       "      <td>...</td>\n",
       "      <td>No Deposit</td>\n",
       "      <td>240.0</td>\n",
       "      <td>NaN</td>\n",
       "      <td>0</td>\n",
       "      <td>Transient</td>\n",
       "      <td>98.0</td>\n",
       "      <td>0</td>\n",
       "      <td>1</td>\n",
       "      <td>Check-Out</td>\n",
       "      <td>2015-07-03</td>\n",
       "    </tr>\n",
       "  </tbody>\n",
       "</table>\n",
       "<p>5 rows × 32 columns</p>\n",
       "</div>"
      ],
      "text/plain": [
       "          hotel  is_canceled  lead_time  arrival_date_year arrival_date_month  \\\n",
       "0  Resort Hotel            0        342               2015               July   \n",
       "1  Resort Hotel            0        737               2015               July   \n",
       "2  Resort Hotel            0          7               2015               July   \n",
       "3  Resort Hotel            0         13               2015               July   \n",
       "4  Resort Hotel            0         14               2015               July   \n",
       "\n",
       "   arrival_date_week_number  arrival_date_day_of_month  \\\n",
       "0                        27                          1   \n",
       "1                        27                          1   \n",
       "2                        27                          1   \n",
       "3                        27                          1   \n",
       "4                        27                          1   \n",
       "\n",
       "   stays_in_weekend_nights  stays_in_week_nights  adults  ...  deposit_type  \\\n",
       "0                        0                     0       2  ...    No Deposit   \n",
       "1                        0                     0       2  ...    No Deposit   \n",
       "2                        0                     1       1  ...    No Deposit   \n",
       "3                        0                     1       1  ...    No Deposit   \n",
       "4                        0                     2       2  ...    No Deposit   \n",
       "\n",
       "   agent company days_in_waiting_list customer_type   adr  \\\n",
       "0    NaN     NaN                    0     Transient   0.0   \n",
       "1    NaN     NaN                    0     Transient   0.0   \n",
       "2    NaN     NaN                    0     Transient  75.0   \n",
       "3  304.0     NaN                    0     Transient  75.0   \n",
       "4  240.0     NaN                    0     Transient  98.0   \n",
       "\n",
       "   required_car_parking_spaces  total_of_special_requests  reservation_status  \\\n",
       "0                            0                          0           Check-Out   \n",
       "1                            0                          0           Check-Out   \n",
       "2                            0                          0           Check-Out   \n",
       "3                            0                          0           Check-Out   \n",
       "4                            0                          1           Check-Out   \n",
       "\n",
       "  reservation_status_date  \n",
       "0              2015-07-01  \n",
       "1              2015-07-01  \n",
       "2              2015-07-02  \n",
       "3              2015-07-02  \n",
       "4              2015-07-03  \n",
       "\n",
       "[5 rows x 32 columns]"
      ]
     },
     "execution_count": 5,
     "metadata": {},
     "output_type": "execute_result"
    }
   ],
   "source": [
    "# Load the raw dataset\n",
    "df = pd.read_csv(raw_path)\n",
    "\n",
    "# Shape and first rows\n",
    "print(\"Shape:\", df.shape)\n",
    "df.head()\n"
   ]
  },
  {
   "cell_type": "markdown",
   "id": "c90c91a2",
   "metadata": {},
   "source": [
    "3 - Basic cleaning"
   ]
  },
  {
   "cell_type": "code",
   "execution_count": 6,
   "id": "8bff9ad9",
   "metadata": {},
   "outputs": [
    {
     "data": {
      "text/plain": [
       "company                     82137\n",
       "agent                       12193\n",
       "country                       452\n",
       "hotel                           0\n",
       "arrival_date_month              0\n",
       "arrival_date_week_number        0\n",
       "lead_time                       0\n",
       "is_canceled                     0\n",
       "stays_in_weekend_nights         0\n",
       "stays_in_week_nights            0\n",
       "dtype: int64"
      ]
     },
     "execution_count": 6,
     "metadata": {},
     "output_type": "execute_result"
    }
   ],
   "source": [
    "# Drop exact duplicates\n",
    "df = df.drop_duplicates()\n",
    "\n",
    "# Replace \"NULL\" strings with real NaN\n",
    "df = df.replace(\"NULL\", np.nan)\n",
    "\n",
    "# Children column sometimes has NaN → replace with 0\n",
    "df[\"children\"] = df[\"children\"].fillna(0)\n",
    "\n",
    "# Check remaining missing values (top 10 columns)\n",
    "df.isna().sum().sort_values(ascending=False).head(10)\n"
   ]
  },
  {
   "cell_type": "markdown",
   "id": "abe7ffad",
   "metadata": {},
   "source": [
    "4 - Save processed copy"
   ]
  },
  {
   "cell_type": "code",
   "execution_count": 7,
   "id": "d89c4b5a",
   "metadata": {},
   "outputs": [
    {
     "name": "stdout",
     "output_type": "stream",
     "text": [
      "Saved processed dataset to data/processed/historical/hotel_bookings_clean.csv\n"
     ]
    }
   ],
   "source": [
    "# Save the cleaned dataset (baseline version)\n",
    "df.to_csv(processed_path, index=False)\n",
    "print(f\"Saved processed dataset to {processed_path}\")"
   ]
  },
  {
   "cell_type": "markdown",
   "id": "0f11602a",
   "metadata": {},
   "source": [
    "5 - Inspect remaining NaN values"
   ]
  },
  {
   "cell_type": "code",
   "execution_count": 8,
   "id": "532e2337",
   "metadata": {},
   "outputs": [
    {
     "data": {
      "text/plain": [
       "company    82137\n",
       "agent      12193\n",
       "country      452\n",
       "dtype: int64"
      ]
     },
     "execution_count": 8,
     "metadata": {},
     "output_type": "execute_result"
    }
   ],
   "source": [
    "# Inspect all columns with missing values\n",
    "missing_summary = df.isna().sum()\n",
    "missing_summary = missing_summary[missing_summary > 0].sort_values(ascending=False)\n",
    "missing_summary\n"
   ]
  },
  {
   "cell_type": "markdown",
   "id": "923ca82c",
   "metadata": {},
   "source": [
    "6 - Handle common missing cases"
   ]
  },
  {
   "cell_type": "code",
   "execution_count": 9,
   "id": "2939dad2",
   "metadata": {},
   "outputs": [
    {
     "data": {
      "text/plain": [
       "country                      452\n",
       "hotel                          0\n",
       "lead_time                      0\n",
       "is_canceled                    0\n",
       "arrival_date_month             0\n",
       "arrival_date_week_number       0\n",
       "arrival_date_day_of_month      0\n",
       "arrival_date_year              0\n",
       "stays_in_weekend_nights        0\n",
       "stays_in_week_nights           0\n",
       "dtype: int64"
      ]
     },
     "execution_count": 9,
     "metadata": {},
     "output_type": "execute_result"
    }
   ],
   "source": [
    "# Fill children/babies more safely\n",
    "df[\"children\"] = df[\"children\"].fillna(0)\n",
    "df[\"babies\"] = df[\"babies\"].fillna(0)\n",
    "\n",
    "# Fill agent and company with 0 (means 'no agent' / 'no company')\n",
    "df[\"agent\"] = df[\"agent\"].fillna(0).astype(int)\n",
    "df[\"company\"] = df[\"company\"].fillna(0).astype(int)\n",
    "\n",
    "# Recheck\n",
    "df.isna().sum().sort_values(ascending=False).head(10)\n"
   ]
  },
  {
   "cell_type": "markdown",
   "id": "36957df2",
   "metadata": {},
   "source": [
    "7 - Remove outliers in adr (average daily rate)"
   ]
  },
  {
   "cell_type": "code",
   "execution_count": 10,
   "id": "dede166e",
   "metadata": {},
   "outputs": [
    {
     "name": "stdout",
     "output_type": "stream",
     "text": [
      "ADR before cleaning: count    87396.000000\n",
      "mean       106.337246\n",
      "std         55.013953\n",
      "min         -6.380000\n",
      "25%         72.000000\n",
      "50%         98.100000\n",
      "75%        134.000000\n",
      "max       5400.000000\n",
      "Name: adr, dtype: float64\n",
      "ADR after cleaning: count    87394.000000\n",
      "mean       106.277964\n",
      "std         52.017324\n",
      "min          0.000000\n",
      "25%         72.000000\n",
      "50%         98.100000\n",
      "75%        134.000000\n",
      "max        510.000000\n",
      "Name: adr, dtype: float64\n"
     ]
    }
   ],
   "source": [
    "# Sometimes adr (average daily rate) has extreme values (like 5000+)\n",
    "print(\"ADR before cleaning:\", df[\"adr\"].describe())\n",
    "\n",
    "# Remove rows where adr < 0 or adr > 1000 (unrealistic)\n",
    "df = df[(df[\"adr\"] >= 0) & (df[\"adr\"] <= 1000)]\n",
    "\n",
    "print(\"ADR after cleaning:\", df[\"adr\"].describe())\n"
   ]
  },
  {
   "cell_type": "markdown",
   "id": "a8e26c55",
   "metadata": {},
   "source": [
    "8 - Final save"
   ]
  },
  {
   "cell_type": "code",
   "execution_count": 11,
   "id": "2de607a3",
   "metadata": {},
   "outputs": [
    {
     "name": "stdout",
     "output_type": "stream",
     "text": [
      "Final cleaned dataset saved to data/processed/historical/hotel_bookings_clean.csv with shape (87394, 32)\n"
     ]
    }
   ],
   "source": [
    "# Save cleaned dataset again\n",
    "df.to_csv(processed_path, index=False)\n",
    "print(f\"Final cleaned dataset saved to {processed_path} with shape {df.shape}\")\n"
   ]
  },
  {
   "cell_type": "markdown",
   "id": "a985ef69",
   "metadata": {},
   "source": [
    "9 - Reload the cleaned dataset (safety)"
   ]
  },
  {
   "cell_type": "code",
   "execution_count": 12,
   "id": "01e76b77",
   "metadata": {},
   "outputs": [
    {
     "name": "stdout",
     "output_type": "stream",
     "text": [
      "(87394, 32)\n"
     ]
    },
    {
     "data": {
      "text/html": [
       "<div>\n",
       "<style scoped>\n",
       "    .dataframe tbody tr th:only-of-type {\n",
       "        vertical-align: middle;\n",
       "    }\n",
       "\n",
       "    .dataframe tbody tr th {\n",
       "        vertical-align: top;\n",
       "    }\n",
       "\n",
       "    .dataframe thead th {\n",
       "        text-align: right;\n",
       "    }\n",
       "</style>\n",
       "<table border=\"1\" class=\"dataframe\">\n",
       "  <thead>\n",
       "    <tr style=\"text-align: right;\">\n",
       "      <th></th>\n",
       "      <th>hotel</th>\n",
       "      <th>is_canceled</th>\n",
       "      <th>lead_time</th>\n",
       "      <th>arrival_date_year</th>\n",
       "      <th>arrival_date_month</th>\n",
       "      <th>arrival_date_week_number</th>\n",
       "      <th>arrival_date_day_of_month</th>\n",
       "      <th>stays_in_weekend_nights</th>\n",
       "      <th>stays_in_week_nights</th>\n",
       "      <th>adults</th>\n",
       "      <th>...</th>\n",
       "      <th>deposit_type</th>\n",
       "      <th>agent</th>\n",
       "      <th>company</th>\n",
       "      <th>days_in_waiting_list</th>\n",
       "      <th>customer_type</th>\n",
       "      <th>adr</th>\n",
       "      <th>required_car_parking_spaces</th>\n",
       "      <th>total_of_special_requests</th>\n",
       "      <th>reservation_status</th>\n",
       "      <th>reservation_status_date</th>\n",
       "    </tr>\n",
       "  </thead>\n",
       "  <tbody>\n",
       "    <tr>\n",
       "      <th>0</th>\n",
       "      <td>Resort Hotel</td>\n",
       "      <td>0</td>\n",
       "      <td>342</td>\n",
       "      <td>2015</td>\n",
       "      <td>July</td>\n",
       "      <td>27</td>\n",
       "      <td>1</td>\n",
       "      <td>0</td>\n",
       "      <td>0</td>\n",
       "      <td>2</td>\n",
       "      <td>...</td>\n",
       "      <td>No Deposit</td>\n",
       "      <td>0</td>\n",
       "      <td>0</td>\n",
       "      <td>0</td>\n",
       "      <td>Transient</td>\n",
       "      <td>0.0</td>\n",
       "      <td>0</td>\n",
       "      <td>0</td>\n",
       "      <td>Check-Out</td>\n",
       "      <td>2015-07-01</td>\n",
       "    </tr>\n",
       "    <tr>\n",
       "      <th>1</th>\n",
       "      <td>Resort Hotel</td>\n",
       "      <td>0</td>\n",
       "      <td>737</td>\n",
       "      <td>2015</td>\n",
       "      <td>July</td>\n",
       "      <td>27</td>\n",
       "      <td>1</td>\n",
       "      <td>0</td>\n",
       "      <td>0</td>\n",
       "      <td>2</td>\n",
       "      <td>...</td>\n",
       "      <td>No Deposit</td>\n",
       "      <td>0</td>\n",
       "      <td>0</td>\n",
       "      <td>0</td>\n",
       "      <td>Transient</td>\n",
       "      <td>0.0</td>\n",
       "      <td>0</td>\n",
       "      <td>0</td>\n",
       "      <td>Check-Out</td>\n",
       "      <td>2015-07-01</td>\n",
       "    </tr>\n",
       "  </tbody>\n",
       "</table>\n",
       "<p>2 rows × 32 columns</p>\n",
       "</div>"
      ],
      "text/plain": [
       "          hotel  is_canceled  lead_time  arrival_date_year arrival_date_month  \\\n",
       "0  Resort Hotel            0        342               2015               July   \n",
       "1  Resort Hotel            0        737               2015               July   \n",
       "\n",
       "   arrival_date_week_number  arrival_date_day_of_month  \\\n",
       "0                        27                          1   \n",
       "1                        27                          1   \n",
       "\n",
       "   stays_in_weekend_nights  stays_in_week_nights  adults  ...  deposit_type  \\\n",
       "0                        0                     0       2  ...    No Deposit   \n",
       "1                        0                     0       2  ...    No Deposit   \n",
       "\n",
       "   agent company days_in_waiting_list customer_type  adr  \\\n",
       "0      0       0                    0     Transient  0.0   \n",
       "1      0       0                    0     Transient  0.0   \n",
       "\n",
       "   required_car_parking_spaces  total_of_special_requests  reservation_status  \\\n",
       "0                            0                          0           Check-Out   \n",
       "1                            0                          0           Check-Out   \n",
       "\n",
       "  reservation_status_date  \n",
       "0              2015-07-01  \n",
       "1              2015-07-01  \n",
       "\n",
       "[2 rows x 32 columns]"
      ]
     },
     "execution_count": 12,
     "metadata": {},
     "output_type": "execute_result"
    }
   ],
   "source": [
    "df = pd.read_csv(processed_path)\n",
    "print(df.shape)\n",
    "df.head(2)\n"
   ]
  },
  {
   "cell_type": "markdown",
   "id": "57fb7f8d",
   "metadata": {},
   "source": [
    "10 - Core features"
   ]
  },
  {
   "cell_type": "code",
   "execution_count": 13,
   "id": "453b82bf",
   "metadata": {},
   "outputs": [
    {
     "data": {
      "text/html": [
       "<div>\n",
       "<style scoped>\n",
       "    .dataframe tbody tr th:only-of-type {\n",
       "        vertical-align: middle;\n",
       "    }\n",
       "\n",
       "    .dataframe tbody tr th {\n",
       "        vertical-align: top;\n",
       "    }\n",
       "\n",
       "    .dataframe thead th {\n",
       "        text-align: right;\n",
       "    }\n",
       "</style>\n",
       "<table border=\"1\" class=\"dataframe\">\n",
       "  <thead>\n",
       "    <tr style=\"text-align: right;\">\n",
       "      <th></th>\n",
       "      <th>stay_length</th>\n",
       "      <th>total_guests</th>\n",
       "      <th>is_family</th>\n",
       "      <th>adr_per_guest</th>\n",
       "      <th>refundable_flag</th>\n",
       "    </tr>\n",
       "  </thead>\n",
       "  <tbody>\n",
       "    <tr>\n",
       "      <th>0</th>\n",
       "      <td>0</td>\n",
       "      <td>2.0</td>\n",
       "      <td>0</td>\n",
       "      <td>0.0</td>\n",
       "      <td>1</td>\n",
       "    </tr>\n",
       "    <tr>\n",
       "      <th>1</th>\n",
       "      <td>0</td>\n",
       "      <td>2.0</td>\n",
       "      <td>0</td>\n",
       "      <td>0.0</td>\n",
       "      <td>1</td>\n",
       "    </tr>\n",
       "    <tr>\n",
       "      <th>2</th>\n",
       "      <td>1</td>\n",
       "      <td>1.0</td>\n",
       "      <td>0</td>\n",
       "      <td>75.0</td>\n",
       "      <td>1</td>\n",
       "    </tr>\n",
       "    <tr>\n",
       "      <th>3</th>\n",
       "      <td>1</td>\n",
       "      <td>1.0</td>\n",
       "      <td>0</td>\n",
       "      <td>75.0</td>\n",
       "      <td>1</td>\n",
       "    </tr>\n",
       "    <tr>\n",
       "      <th>4</th>\n",
       "      <td>2</td>\n",
       "      <td>2.0</td>\n",
       "      <td>0</td>\n",
       "      <td>49.0</td>\n",
       "      <td>1</td>\n",
       "    </tr>\n",
       "  </tbody>\n",
       "</table>\n",
       "</div>"
      ],
      "text/plain": [
       "   stay_length  total_guests  is_family  adr_per_guest  refundable_flag\n",
       "0            0           2.0          0            0.0                1\n",
       "1            0           2.0          0            0.0                1\n",
       "2            1           1.0          0           75.0                1\n",
       "3            1           1.0          0           75.0                1\n",
       "4            2           2.0          0           49.0                1"
      ]
     },
     "execution_count": 13,
     "metadata": {},
     "output_type": "execute_result"
    }
   ],
   "source": [
    "# 1) Stay length\n",
    "df[\"stay_length\"] = df[\"stays_in_week_nights\"] + df[\"stays_in_weekend_nights\"]\n",
    "\n",
    "# 2) Total guests + family flag\n",
    "df[\"total_guests\"] = df[[\"adults\",\"children\",\"babies\"]].sum(axis=1)\n",
    "df[\"is_family\"] = (df[[\"children\",\"babies\"]].sum(axis=1) > 0).astype(int)\n",
    "\n",
    "# 3) ADR per guest (avoid div by zero)\n",
    "df[\"adr_per_guest\"] = df[\"adr\"] / df[\"total_guests\"].replace(0,1)\n",
    "\n",
    "# 4) Non-refundable vs refundable (assumption: 'Non Refund' = non-refundable)\n",
    "df[\"non_refundable_flag\"] = (df[\"deposit_type\"] == \"Non Refund\").astype(int)\n",
    "df[\"refundable_flag\"] = 1 - df[\"non_refundable_flag\"]\n",
    "\n",
    "# Quick sanity\n",
    "df[[\"stay_length\",\"total_guests\",\"is_family\",\"adr_per_guest\",\"refundable_flag\"]].head()\n"
   ]
  },
  {
   "cell_type": "markdown",
   "id": "71ff89eb",
   "metadata": {},
   "source": [
    "11 - Check-in date & calendar features"
   ]
  },
  {
   "cell_type": "code",
   "execution_count": 14,
   "id": "fe14373c",
   "metadata": {},
   "outputs": [
    {
     "data": {
      "text/html": [
       "<div>\n",
       "<style scoped>\n",
       "    .dataframe tbody tr th:only-of-type {\n",
       "        vertical-align: middle;\n",
       "    }\n",
       "\n",
       "    .dataframe tbody tr th {\n",
       "        vertical-align: top;\n",
       "    }\n",
       "\n",
       "    .dataframe thead th {\n",
       "        text-align: right;\n",
       "    }\n",
       "</style>\n",
       "<table border=\"1\" class=\"dataframe\">\n",
       "  <thead>\n",
       "    <tr style=\"text-align: right;\">\n",
       "      <th></th>\n",
       "      <th>checkin_date</th>\n",
       "      <th>checkin_dow</th>\n",
       "      <th>is_weekend_checkin</th>\n",
       "      <th>season</th>\n",
       "    </tr>\n",
       "  </thead>\n",
       "  <tbody>\n",
       "    <tr>\n",
       "      <th>0</th>\n",
       "      <td>2015-07-01</td>\n",
       "      <td>2</td>\n",
       "      <td>0</td>\n",
       "      <td>summer</td>\n",
       "    </tr>\n",
       "    <tr>\n",
       "      <th>1</th>\n",
       "      <td>2015-07-01</td>\n",
       "      <td>2</td>\n",
       "      <td>0</td>\n",
       "      <td>summer</td>\n",
       "    </tr>\n",
       "    <tr>\n",
       "      <th>2</th>\n",
       "      <td>2015-07-01</td>\n",
       "      <td>2</td>\n",
       "      <td>0</td>\n",
       "      <td>summer</td>\n",
       "    </tr>\n",
       "    <tr>\n",
       "      <th>3</th>\n",
       "      <td>2015-07-01</td>\n",
       "      <td>2</td>\n",
       "      <td>0</td>\n",
       "      <td>summer</td>\n",
       "    </tr>\n",
       "    <tr>\n",
       "      <th>4</th>\n",
       "      <td>2015-07-01</td>\n",
       "      <td>2</td>\n",
       "      <td>0</td>\n",
       "      <td>summer</td>\n",
       "    </tr>\n",
       "  </tbody>\n",
       "</table>\n",
       "</div>"
      ],
      "text/plain": [
       "  checkin_date  checkin_dow  is_weekend_checkin  season\n",
       "0   2015-07-01            2                   0  summer\n",
       "1   2015-07-01            2                   0  summer\n",
       "2   2015-07-01            2                   0  summer\n",
       "3   2015-07-01            2                   0  summer\n",
       "4   2015-07-01            2                   0  summer"
      ]
     },
     "execution_count": 14,
     "metadata": {},
     "output_type": "execute_result"
    }
   ],
   "source": [
    "# Build a proper check-in date\n",
    "month_map = {'January':1,'February':2,'March':3,'April':4,'May':5,'June':6,\n",
    "             'July':7,'August':8,'September':9,'October':10,'November':11,'December':12}\n",
    "df[\"arrival_month_num\"] = df[\"arrival_date_month\"].map(month_map).astype(int)\n",
    "\n",
    "df[\"checkin_date\"] = pd.to_datetime(\n",
    "    dict(year=df[\"arrival_date_year\"],\n",
    "         month=df[\"arrival_month_num\"],\n",
    "         day=df[\"arrival_date_day_of_month\"])\n",
    ")\n",
    "\n",
    "# Calendar-derived features\n",
    "df[\"checkin_dow\"] = df[\"checkin_date\"].dt.dayofweek            # 0=Mon, 6=Sun\n",
    "df[\"is_weekend_checkin\"] = df[\"checkin_dow\"].isin([4,5,6]).astype(int)  # Fri/Sat/Sun\n",
    "\n",
    "# Simple season buckets (N. Hemisphere)\n",
    "def season(m):\n",
    "    if m in (12,1,2): return \"winter\"\n",
    "    if m in (3,4,5):  return \"spring\"\n",
    "    if m in (6,7,8):  return \"summer\"\n",
    "    return \"autumn\"\n",
    "df[\"season\"] = df[\"arrival_month_num\"].apply(season)\n",
    "\n",
    "df[[\"checkin_date\",\"checkin_dow\",\"is_weekend_checkin\",\"season\"]].head()\n"
   ]
  },
  {
   "cell_type": "markdown",
   "id": "bec8f282",
   "metadata": {},
   "source": [
    "12 - Lead-time buckets"
   ]
  },
  {
   "cell_type": "code",
   "execution_count": 15,
   "id": "8e6b8969",
   "metadata": {},
   "outputs": [
    {
     "data": {
      "text/plain": [
       "lead_time_bucket\n",
       "31-90d      22743\n",
       "0-7d        18304\n",
       "91-180d     18243\n",
       "8-30d       16340\n",
       "181-365d    11199\n",
       ">365d         565\n",
       "Name: count, dtype: int64"
      ]
     },
     "execution_count": 15,
     "metadata": {},
     "output_type": "execute_result"
    }
   ],
   "source": [
    "# Discretize lead_time into interpretable buckets\n",
    "bins = [-1, 7, 30, 90, 180, 365, 10000]\n",
    "labels = [\"0-7d\",\"8-30d\",\"31-90d\",\"91-180d\",\"181-365d\",\">365d\"]\n",
    "df[\"lead_time_bucket\"] = pd.cut(df[\"lead_time\"], bins=bins, labels=labels)\n",
    "\n",
    "df[\"lead_time_bucket\"].value_counts(dropna=False)\n"
   ]
  },
  {
   "cell_type": "markdown",
   "id": "6a9b9240",
   "metadata": {},
   "source": [
    "13 - Previous behaviour ratios"
   ]
  },
  {
   "cell_type": "code",
   "execution_count": 16,
   "id": "76b03937",
   "metadata": {},
   "outputs": [
    {
     "data": {
      "text/plain": [
       "count    87394.000000\n",
       "mean         0.013732\n",
       "std          0.111818\n",
       "min          0.000000\n",
       "25%          0.000000\n",
       "50%          0.000000\n",
       "75%          0.000000\n",
       "max          1.000000\n",
       "Name: prev_cancel_ratio, dtype: float64"
      ]
     },
     "execution_count": 16,
     "metadata": {},
     "output_type": "execute_result"
    }
   ],
   "source": [
    "# Cancellation ratio from history (avoid division by zero)\n",
    "den = df[\"previous_cancellations\"] + df[\"previous_bookings_not_canceled\"]\n",
    "df[\"prev_cancel_ratio\"] = df[\"previous_cancellations\"] / den.replace(0, np.nan)\n",
    "df[\"prev_cancel_ratio\"] = df[\"prev_cancel_ratio\"].fillna(0)\n",
    "\n",
    "df[\"prev_cancel_ratio\"].describe()\n"
   ]
  },
  {
   "cell_type": "markdown",
   "id": "0028c1b1",
   "metadata": {},
   "source": [
    "14 - Save feature set"
   ]
  },
  {
   "cell_type": "code",
   "execution_count": 17,
   "id": "4fa197d1",
   "metadata": {},
   "outputs": [
    {
     "name": "stdout",
     "output_type": "stream",
     "text": [
      "Feature-enriched dataset saved to data/processed/historical/hotel_bookings_features.csv  |  shape=(87394, 45)\n"
     ]
    }
   ],
   "source": [
    "features_path = \"data/processed/historical/hotel_bookings_features.csv\"\n",
    "df.to_csv(features_path, index=False)\n",
    "print(f\"Feature-enriched dataset saved to {features_path}  |  shape={df.shape}\")\n"
   ]
  }
 ],
 "metadata": {
  "kernelspec": {
   "display_name": "amadeus",
   "language": "python",
   "name": "python3"
  },
  "language_info": {
   "codemirror_mode": {
    "name": "ipython",
    "version": 3
   },
   "file_extension": ".py",
   "mimetype": "text/x-python",
   "name": "python",
   "nbconvert_exporter": "python",
   "pygments_lexer": "ipython3",
   "version": "3.11.13"
  }
 },
 "nbformat": 4,
 "nbformat_minor": 5
}
